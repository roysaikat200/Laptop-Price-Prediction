{
 "cells": [
  {
   "cell_type": "code",
   "execution_count": 3,
   "metadata": {},
   "outputs": [],
   "source": [
    "import numpy as np\n",
    "import pandas as pd"
   ]
  },
  {
   "cell_type": "code",
   "execution_count": 4,
   "metadata": {},
   "outputs": [],
   "source": [
    "from sklearn.compose import ColumnTransformer\n",
    "from sklearn.pipeline import Pipeline\n",
    "from sklearn.preprocessing import OneHotEncoder\n",
    "from sklearn.metrics import r2_score,mean_absolute_error"
   ]
  },
  {
   "cell_type": "code",
   "execution_count": 5,
   "metadata": {},
   "outputs": [],
   "source": [
    "from sklearn.linear_model import LinearRegression,Ridge,Lasso\n",
    "from sklearn.neighbors import KNeighborsRegressor\n",
    "from sklearn.tree import DecisionTreeRegressor\n",
    "from sklearn.ensemble import RandomForestRegressor,GradientBoostingRegressor,AdaBoostRegressor,ExtraTreesRegressor, VotingRegressor, StackingRegressor\n",
    "from sklearn.svm import SVR\n",
    "from xgboost import XGBRegressor"
   ]
  },
  {
   "cell_type": "code",
   "execution_count": 6,
   "metadata": {},
   "outputs": [],
   "source": [
    "df = pd.read_csv('Final_Dataset.csv')"
   ]
  },
  {
   "cell_type": "code",
   "execution_count": 7,
   "metadata": {},
   "outputs": [],
   "source": [
    "X = df.drop(columns=['Price'])\n",
    "y = np.log(df['Price'])"
   ]
  },
  {
   "cell_type": "code",
   "execution_count": 8,
   "metadata": {},
   "outputs": [
    {
     "data": {
      "text/html": [
       "<div>\n",
       "<style scoped>\n",
       "    .dataframe tbody tr th:only-of-type {\n",
       "        vertical-align: middle;\n",
       "    }\n",
       "\n",
       "    .dataframe tbody tr th {\n",
       "        vertical-align: top;\n",
       "    }\n",
       "\n",
       "    .dataframe thead th {\n",
       "        text-align: right;\n",
       "    }\n",
       "</style>\n",
       "<table border=\"1\" class=\"dataframe\">\n",
       "  <thead>\n",
       "    <tr style=\"text-align: right;\">\n",
       "      <th></th>\n",
       "      <th>Company</th>\n",
       "      <th>TypeName</th>\n",
       "      <th>Ram</th>\n",
       "      <th>Weight</th>\n",
       "      <th>Touchscreen</th>\n",
       "      <th>Ips</th>\n",
       "      <th>Ppi</th>\n",
       "      <th>Cpu brand</th>\n",
       "      <th>HDD</th>\n",
       "      <th>SSD</th>\n",
       "      <th>Gpu brand</th>\n",
       "      <th>Os</th>\n",
       "    </tr>\n",
       "  </thead>\n",
       "  <tbody>\n",
       "    <tr>\n",
       "      <th>0</th>\n",
       "      <td>Apple</td>\n",
       "      <td>Ultrabook</td>\n",
       "      <td>8</td>\n",
       "      <td>1.37</td>\n",
       "      <td>0</td>\n",
       "      <td>1</td>\n",
       "      <td>226.983005</td>\n",
       "      <td>Intel Core i5</td>\n",
       "      <td>0</td>\n",
       "      <td>128</td>\n",
       "      <td>Intel</td>\n",
       "      <td>Mac</td>\n",
       "    </tr>\n",
       "    <tr>\n",
       "      <th>1</th>\n",
       "      <td>Apple</td>\n",
       "      <td>Ultrabook</td>\n",
       "      <td>8</td>\n",
       "      <td>1.34</td>\n",
       "      <td>0</td>\n",
       "      <td>0</td>\n",
       "      <td>127.677940</td>\n",
       "      <td>Intel Core i5</td>\n",
       "      <td>0</td>\n",
       "      <td>0</td>\n",
       "      <td>Intel</td>\n",
       "      <td>Mac</td>\n",
       "    </tr>\n",
       "    <tr>\n",
       "      <th>2</th>\n",
       "      <td>HP</td>\n",
       "      <td>Notebook</td>\n",
       "      <td>8</td>\n",
       "      <td>1.86</td>\n",
       "      <td>0</td>\n",
       "      <td>0</td>\n",
       "      <td>141.211998</td>\n",
       "      <td>Intel Core i5</td>\n",
       "      <td>0</td>\n",
       "      <td>256</td>\n",
       "      <td>Intel</td>\n",
       "      <td>Others/No OS/Linux</td>\n",
       "    </tr>\n",
       "    <tr>\n",
       "      <th>3</th>\n",
       "      <td>Apple</td>\n",
       "      <td>Ultrabook</td>\n",
       "      <td>16</td>\n",
       "      <td>1.83</td>\n",
       "      <td>0</td>\n",
       "      <td>1</td>\n",
       "      <td>220.534624</td>\n",
       "      <td>Intel Core i7</td>\n",
       "      <td>0</td>\n",
       "      <td>512</td>\n",
       "      <td>AMD</td>\n",
       "      <td>Mac</td>\n",
       "    </tr>\n",
       "    <tr>\n",
       "      <th>4</th>\n",
       "      <td>Apple</td>\n",
       "      <td>Ultrabook</td>\n",
       "      <td>8</td>\n",
       "      <td>1.37</td>\n",
       "      <td>0</td>\n",
       "      <td>1</td>\n",
       "      <td>226.983005</td>\n",
       "      <td>Intel Core i5</td>\n",
       "      <td>0</td>\n",
       "      <td>256</td>\n",
       "      <td>Intel</td>\n",
       "      <td>Mac</td>\n",
       "    </tr>\n",
       "  </tbody>\n",
       "</table>\n",
       "</div>"
      ],
      "text/plain": [
       "  Company   TypeName  Ram  Weight  Touchscreen  Ips         Ppi  \\\n",
       "0   Apple  Ultrabook    8    1.37            0    1  226.983005   \n",
       "1   Apple  Ultrabook    8    1.34            0    0  127.677940   \n",
       "2      HP   Notebook    8    1.86            0    0  141.211998   \n",
       "3   Apple  Ultrabook   16    1.83            0    1  220.534624   \n",
       "4   Apple  Ultrabook    8    1.37            0    1  226.983005   \n",
       "\n",
       "       Cpu brand  HDD  SSD Gpu brand                  Os  \n",
       "0  Intel Core i5    0  128     Intel                 Mac  \n",
       "1  Intel Core i5    0    0     Intel                 Mac  \n",
       "2  Intel Core i5    0  256     Intel  Others/No OS/Linux  \n",
       "3  Intel Core i7    0  512       AMD                 Mac  \n",
       "4  Intel Core i5    0  256     Intel                 Mac  "
      ]
     },
     "execution_count": 8,
     "metadata": {},
     "output_type": "execute_result"
    }
   ],
   "source": [
    "X.head(5)"
   ]
  },
  {
   "cell_type": "code",
   "execution_count": 9,
   "metadata": {},
   "outputs": [
    {
     "data": {
      "text/plain": [
       "0    11.175745\n",
       "1    10.776766\n",
       "2    10.329931\n",
       "3    11.814473\n",
       "4    11.473093\n",
       "Name: Price, dtype: float64"
      ]
     },
     "execution_count": 9,
     "metadata": {},
     "output_type": "execute_result"
    }
   ],
   "source": [
    "y.head(5)"
   ]
  },
  {
   "cell_type": "code",
   "execution_count": 10,
   "metadata": {},
   "outputs": [],
   "source": [
    "from sklearn.model_selection import train_test_split\n",
    "X_train,X_test,y_train,y_test = train_test_split(X,y,test_size=0.15,random_state=2)"
   ]
  },
  {
   "cell_type": "code",
   "execution_count": 11,
   "metadata": {},
   "outputs": [],
   "source": [
    "def save_result(result):\n",
    "    with open('result.txt', 'a') as file:  # Open in append mode\n",
    "        file.write(result + '\\n')  # Write result with a new line\n"
   ]
  },
  {
   "cell_type": "markdown",
   "metadata": {},
   "source": [
    "# Linear Regression"
   ]
  },
  {
   "cell_type": "code",
   "execution_count": 12,
   "metadata": {},
   "outputs": [
    {
     "name": "stdout",
     "output_type": "stream",
     "text": [
      "r2_score = 0.8073\n",
      "\n",
      "mae = 0.2102\n",
      "\n"
     ]
    }
   ],
   "source": [
    "# Define the preprocessing step\n",
    "step1 = ColumnTransformer(transformers=[\n",
    "    ('col_tnf', OneHotEncoder(sparse_output=False, drop='first'), [0,1,7,10,11])\n",
    "], remainder='passthrough')\n",
    "\n",
    "# Define the model\n",
    "step2 = LinearRegression()\n",
    "\n",
    "# Create a pipeline\n",
    "Linear_Regression_pipe = Pipeline([('step1', step1), ('step2', step2)])\n",
    "\n",
    "# Train the model\n",
    "Linear_Regression_pipe.fit(X_train, y_train)\n",
    "\n",
    "# Make predictions\n",
    "y_pred = Linear_Regression_pipe.predict(X_test)\n",
    "\n",
    "# Calculate metrics\n",
    "r2_value = 'r2_score = {:.4f}\\n'.format(r2_score(y_test, y_pred))  # Avoid overriding function name\n",
    "mae_value = 'mae = {:.4f}\\n'.format(mean_absolute_error(y_test, y_pred))\n",
    "\n",
    "# Print results\n",
    "print(r2_value)\n",
    "print(mae_value)\n",
    "\n",
    "# Save results\n",
    "save_result('LinearRegression:\\n' + r2_value + mae_value)\n"
   ]
  },
  {
   "cell_type": "markdown",
   "metadata": {},
   "source": [
    "# Ridge Regression"
   ]
  },
  {
   "cell_type": "code",
   "execution_count": 13,
   "metadata": {},
   "outputs": [
    {
     "name": "stdout",
     "output_type": "stream",
     "text": [
      "r2_score = 0.8127\n",
      "\n",
      "mae = 0.2093\n",
      "\n"
     ]
    }
   ],
   "source": [
    "# Define the preprocessing step\n",
    "step1 = ColumnTransformer(transformers=[\n",
    "    ('col_tnf', OneHotEncoder(sparse_output=False, drop='first'), [0,1,7,10,11])  # One-hot encode categorical columns\n",
    "], remainder='passthrough')\n",
    "\n",
    "# Define the Ridge regression model with alpha=10\n",
    "step2 = Ridge(alpha=10)\n",
    "\n",
    "# Create a pipeline\n",
    "RIDGE_REGRESSION_PIPE = Pipeline([('step1', step1), ('step2', step2)])\n",
    "\n",
    "# Train the model\n",
    "RIDGE_REGRESSION_PIPE.fit(X_train, y_train)\n",
    "\n",
    "# Make predictions\n",
    "y_pred = RIDGE_REGRESSION_PIPE.predict(X_test)\n",
    "\n",
    "# Calculate metrics\n",
    "r2_value = 'r2_score = {:.4f}\\n'.format(r2_score(y_test, y_pred))  # Compute R-squared score\n",
    "mae_value = 'mae = {:.4f}\\n'.format(mean_absolute_error(y_test, y_pred))  # Compute Mean Absolute Error\n",
    "\n",
    "# Print results\n",
    "print(r2_value)\n",
    "print(mae_value)\n",
    "\n",
    "# Save results\n",
    "save_result('Ridge Regression:\\n' + r2_value + mae_value)\n"
   ]
  },
  {
   "cell_type": "markdown",
   "metadata": {},
   "source": [
    "# Lasso Regression"
   ]
  },
  {
   "cell_type": "code",
   "execution_count": 14,
   "metadata": {},
   "outputs": [
    {
     "name": "stdout",
     "output_type": "stream",
     "text": [
      "r2_score = 0.8072\n",
      "\n",
      "mae = 0.2111\n",
      "\n"
     ]
    }
   ],
   "source": [
    "# Define the preprocessing step\n",
    "step1 = ColumnTransformer(transformers=[\n",
    "    ('col_tnf', OneHotEncoder(sparse_output=False, drop='first'), [0,1,7,10,11])\n",
    "], remainder='passthrough')\n",
    "\n",
    "# Define the model\n",
    "step2 = Lasso(alpha=0.001)\n",
    "\n",
    "# Create a pipeline\n",
    "LASSO_PIPE = Pipeline([('step1', step1), ('step2', step2)])\n",
    "\n",
    "# Train the model\n",
    "LASSO_PIPE.fit(X_train, y_train)\n",
    "\n",
    "# Make predictions\n",
    "y_pred = LASSO_PIPE.predict(X_test)\n",
    "\n",
    "# Calculate metrics\n",
    "r2_value = 'r2_score = {:.4f}\\n'.format(r2_score(y_test, y_pred))\n",
    "mae_value = 'mae = {:.4f}\\n'.format(mean_absolute_error(y_test, y_pred))\n",
    "\n",
    "# Print results\n",
    "print(r2_value)\n",
    "print(mae_value)\n",
    "\n",
    "# Save results\n",
    "save_result('Lasso Regression:\\n' + r2_value + mae_value)"
   ]
  },
  {
   "cell_type": "markdown",
   "metadata": {},
   "source": [
    "# KNN"
   ]
  },
  {
   "cell_type": "code",
   "execution_count": 15,
   "metadata": {},
   "outputs": [
    {
     "name": "stdout",
     "output_type": "stream",
     "text": [
      "r2_score = 0.8045\n",
      "\n",
      "mae = 0.1991\n",
      "\n"
     ]
    }
   ],
   "source": [
    "# Define the preprocessing step\n",
    "step1 = ColumnTransformer(transformers=[\n",
    "    ('col_tnf', OneHotEncoder(sparse_output=False, drop='first'), [0,1,7,10,11])\n",
    "], remainder='passthrough')\n",
    "\n",
    "# Define the model\n",
    "step2 = KNeighborsRegressor(n_neighbors=5)\n",
    "\n",
    "# Create a pipeline\n",
    "KNN_PIPE = Pipeline([('step1', step1), ('step2', step2)])\n",
    "\n",
    "# Train the model\n",
    "KNN_PIPE.fit(X_train, y_train)\n",
    "\n",
    "# Make predictions\n",
    "y_pred = KNN_PIPE.predict(X_test)\n",
    "\n",
    "# Calculate metrics\n",
    "r2_value = 'r2_score = {:.4f}\\n'.format(r2_score(y_test, y_pred))\n",
    "mae_value = 'mae = {:.4f}\\n'.format(mean_absolute_error(y_test, y_pred))\n",
    "\n",
    "# Print results\n",
    "print(r2_value)\n",
    "print(mae_value)\n",
    "\n",
    "# Save results\n",
    "save_result('KNN Regression:\\n' + r2_value + mae_value)"
   ]
  },
  {
   "cell_type": "markdown",
   "metadata": {},
   "source": [
    "# Decision Tree"
   ]
  },
  {
   "cell_type": "code",
   "execution_count": 16,
   "metadata": {},
   "outputs": [
    {
     "name": "stdout",
     "output_type": "stream",
     "text": [
      "r2_score = 0.7806\n",
      "\n",
      "mae = 0.2085\n",
      "\n"
     ]
    }
   ],
   "source": [
    "# Define the preprocessing step\n",
    "step1 = ColumnTransformer(transformers=[\n",
    "    ('col_tnf', OneHotEncoder(sparse_output=False, drop='first'), [0,1,7,10,11])\n",
    "], remainder='passthrough')\n",
    "\n",
    "# Define the model\n",
    "step2 = DecisionTreeRegressor(random_state=42)\n",
    "\n",
    "# Create a pipeline\n",
    "DECISION_TREE_PIPE = Pipeline([('step1', step1), ('step2', step2)])\n",
    "\n",
    "# Train the model\n",
    "DECISION_TREE_PIPE.fit(X_train, y_train)\n",
    "\n",
    "# Make predictions\n",
    "y_pred = DECISION_TREE_PIPE.predict(X_test)\n",
    "\n",
    "# Calculate metrics\n",
    "r2_value = 'r2_score = {:.4f}\\n'.format(r2_score(y_test, y_pred))\n",
    "mae_value = 'mae = {:.4f}\\n'.format(mean_absolute_error(y_test, y_pred))\n",
    "\n",
    "# Print results\n",
    "print(r2_value)\n",
    "print(mae_value)\n",
    "\n",
    "# Save results\n",
    "save_result('Decision Tree Regression:\\n' + r2_value + mae_value)\n"
   ]
  },
  {
   "cell_type": "markdown",
   "metadata": {},
   "source": [
    "# SVM"
   ]
  },
  {
   "cell_type": "code",
   "execution_count": 17,
   "metadata": {},
   "outputs": [
    {
     "name": "stdout",
     "output_type": "stream",
     "text": [
      "r2_score = 0.6111\n",
      "\n",
      "mae = 0.2959\n",
      "\n"
     ]
    }
   ],
   "source": [
    "# Define the preprocessing step\n",
    "step1 = ColumnTransformer(transformers=[\n",
    "    ('col_tnf', OneHotEncoder(sparse_output=False, drop='first'), [0,1,7,10,11])\n",
    "], remainder='passthrough')\n",
    "\n",
    "# Define the model\n",
    "step2 = SVR(kernel='rbf')\n",
    "\n",
    "# Create a pipeline\n",
    "SVM_PIPE = Pipeline([('step1', step1), ('step2', step2)])\n",
    "\n",
    "# Train the model\n",
    "SVM_PIPE.fit(X_train, y_train)\n",
    "\n",
    "# Make predictions\n",
    "y_pred = SVM_PIPE.predict(X_test)\n",
    "\n",
    "# Calculate metrics\n",
    "r2_value = 'r2_score = {:.4f}\\n'.format(r2_score(y_test, y_pred))\n",
    "mae_value = 'mae = {:.4f}\\n'.format(mean_absolute_error(y_test, y_pred))\n",
    "\n",
    "# Print results\n",
    "print(r2_value)\n",
    "print(mae_value)\n",
    "\n",
    "# Save results\n",
    "save_result('Support Vector Regression (SVR):\\n' + r2_value + mae_value)\n"
   ]
  },
  {
   "cell_type": "markdown",
   "metadata": {},
   "source": [
    "# Random Forest"
   ]
  },
  {
   "cell_type": "code",
   "execution_count": 18,
   "metadata": {},
   "outputs": [
    {
     "name": "stdout",
     "output_type": "stream",
     "text": [
      "r2_score = 0.8857\n",
      "\n",
      "mae = 0.1565\n",
      "\n"
     ]
    }
   ],
   "source": [
    "# Define the preprocessing step\n",
    "step1 = ColumnTransformer(transformers=[\n",
    "    ('col_tnf', OneHotEncoder(sparse_output=False, drop='first'), [0,1,7,10,11])\n",
    "], remainder='passthrough')\n",
    "\n",
    "# Define the model\n",
    "step2 = RandomForestRegressor(n_estimators=100, random_state=42)\n",
    "\n",
    "# Create a pipeline\n",
    "RAND_FRST_PIPE = Pipeline([('step1', step1), ('step2', step2)])\n",
    "\n",
    "# Train the model\n",
    "RAND_FRST_PIPE.fit(X_train, y_train)\n",
    "\n",
    "# Make predictions\n",
    "y_pred = RAND_FRST_PIPE.predict(X_test)\n",
    "\n",
    "# Calculate metrics\n",
    "r2_value = 'r2_score = {:.4f}\\n'.format(r2_score(y_test, y_pred))\n",
    "mae_value = 'mae = {:.4f}\\n'.format(mean_absolute_error(y_test, y_pred))\n",
    "\n",
    "# Print results\n",
    "print(r2_value)\n",
    "print(mae_value)\n",
    "\n",
    "# Save results\n",
    "save_result('Random Forest Regressor:\\n' + r2_value + mae_value)\n"
   ]
  },
  {
   "cell_type": "markdown",
   "metadata": {},
   "source": [
    "# Extra Trees"
   ]
  },
  {
   "cell_type": "code",
   "execution_count": 19,
   "metadata": {},
   "outputs": [
    {
     "name": "stdout",
     "output_type": "stream",
     "text": [
      "r2_score = 0.8687\n",
      "\n",
      "mae = 0.1599\n",
      "\n"
     ]
    }
   ],
   "source": [
    "# Define the preprocessing step\n",
    "step1 = ColumnTransformer(transformers=[\n",
    "    ('col_tnf', OneHotEncoder(sparse_output=False, drop='first'), [0,1,7,10,11])\n",
    "], remainder='passthrough')\n",
    "\n",
    "# Define the model\n",
    "step2 = ExtraTreesRegressor(n_estimators=100, random_state=42)\n",
    "\n",
    "# Create a pipeline\n",
    "EXT_PIPE = Pipeline([('step1', step1), ('step2', step2)])\n",
    "\n",
    "# Train the model\n",
    "EXT_PIPE.fit(X_train, y_train)\n",
    "\n",
    "# Make predictions\n",
    "y_pred = EXT_PIPE.predict(X_test)\n",
    "\n",
    "# Calculate metrics\n",
    "r2_value = 'r2_score = {:.4f}\\n'.format(r2_score(y_test, y_pred))\n",
    "mae_value = 'mae = {:.4f}\\n'.format(mean_absolute_error(y_test, y_pred))\n",
    "\n",
    "# Print results\n",
    "print(r2_value)\n",
    "print(mae_value)\n",
    "\n",
    "# Save results\n",
    "save_result('Extra Trees Regressor:\\n' + r2_value + mae_value)"
   ]
  },
  {
   "cell_type": "markdown",
   "metadata": {},
   "source": [
    "# AdaBoost"
   ]
  },
  {
   "cell_type": "code",
   "execution_count": 20,
   "metadata": {},
   "outputs": [
    {
     "name": "stdout",
     "output_type": "stream",
     "text": [
      "r2_score = 0.7996\n",
      "\n",
      "mae = 0.2271\n",
      "\n"
     ]
    }
   ],
   "source": [
    "# Define the preprocessing step\n",
    "step1 = ColumnTransformer(transformers=[\n",
    "    ('col_tnf', OneHotEncoder(sparse_output=False, drop='first'), [0,1,7,10,11])\n",
    "], remainder='passthrough')\n",
    "\n",
    "# Define the model\n",
    "step2 = AdaBoostRegressor(n_estimators=50, random_state=42)\n",
    "\n",
    "# Create a pipeline\n",
    "ADA_PIPE = Pipeline([('step1', step1), ('step2', step2)])\n",
    "\n",
    "# Train the model\n",
    "ADA_PIPE.fit(X_train, y_train)\n",
    "\n",
    "# Make predictions\n",
    "y_pred = ADA_PIPE.predict(X_test)\n",
    "\n",
    "# Calculate metrics\n",
    "r2_value = 'r2_score = {:.4f}\\n'.format(r2_score(y_test, y_pred))\n",
    "mae_value = 'mae = {:.4f}\\n'.format(mean_absolute_error(y_test, y_pred))\n",
    "\n",
    "# Print results\n",
    "print(r2_value)\n",
    "print(mae_value)\n",
    "\n",
    "# Save results\n",
    "save_result('AdaBoost Regressor:\\n' + r2_value + mae_value)"
   ]
  },
  {
   "cell_type": "markdown",
   "metadata": {},
   "source": [
    "# Gradient Boost"
   ]
  },
  {
   "cell_type": "code",
   "execution_count": 21,
   "metadata": {},
   "outputs": [
    {
     "name": "stdout",
     "output_type": "stream",
     "text": [
      "r2_score = 0.8672\n",
      "\n",
      "mae = 0.1754\n",
      "\n"
     ]
    }
   ],
   "source": [
    "# Define the preprocessing step\n",
    "step1 = ColumnTransformer(transformers=[\n",
    "    ('col_tnf', OneHotEncoder(sparse_output=False, drop='first'), [0,1,7,10,11])\n",
    "], remainder='passthrough')\n",
    "\n",
    "# Define the model\n",
    "step2 = GradientBoostingRegressor(n_estimators=100, learning_rate=0.1, random_state=42)\n",
    "\n",
    "# Create a pipeline\n",
    "GD_PIPE = Pipeline([('step1', step1), ('step2', step2)])\n",
    "\n",
    "# Train the model\n",
    "GD_PIPE.fit(X_train, y_train)\n",
    "\n",
    "# Make predictions\n",
    "y_pred = GD_PIPE.predict(X_test)\n",
    "\n",
    "# Calculate metrics\n",
    "r2_value = 'r2_score = {:.4f}\\n'.format(r2_score(y_test, y_pred))\n",
    "mae_value = 'mae = {:.4f}\\n'.format(mean_absolute_error(y_test, y_pred))\n",
    "\n",
    "# Print results\n",
    "print(r2_value)\n",
    "print(mae_value)\n",
    "\n",
    "# Save results\n",
    "save_result('Gradient Boosting Regressor:\\n' + r2_value + mae_value)"
   ]
  },
  {
   "cell_type": "markdown",
   "metadata": {},
   "source": [
    "# Xg Boost"
   ]
  },
  {
   "cell_type": "code",
   "execution_count": 22,
   "metadata": {},
   "outputs": [
    {
     "name": "stdout",
     "output_type": "stream",
     "text": [
      "r2_score = 0.8881\n",
      "\n",
      "mae = 0.1545\n",
      "\n"
     ]
    }
   ],
   "source": [
    "# Define the preprocessing step\n",
    "step1 = ColumnTransformer(transformers=[\n",
    "    ('col_tnf', OneHotEncoder(sparse_output=False, drop='first'), [0,1,7,10,11])\n",
    "], remainder='passthrough')\n",
    "\n",
    "# Define the model\n",
    "step2 = XGBRegressor(n_estimators=100, learning_rate=0.1, random_state=42)\n",
    "\n",
    "# Create a pipeline\n",
    "XG_PIPE = Pipeline([('step1', step1), ('step2', step2)])\n",
    "\n",
    "# Train the model\n",
    "XG_PIPE.fit(X_train, y_train)\n",
    "\n",
    "# Make predictions\n",
    "y_pred = XG_PIPE.predict(X_test)\n",
    "\n",
    "# Calculate metrics\n",
    "r2_value = 'r2_score = {:.4f}\\n'.format(r2_score(y_test, y_pred))\n",
    "mae_value = 'mae = {:.4f}\\n'.format(mean_absolute_error(y_test, y_pred))\n",
    "\n",
    "# Print results\n",
    "print(r2_value)\n",
    "print(mae_value)\n",
    "\n",
    "# Save results\n",
    "save_result('XGBoost Regressor:\\n' + r2_value + mae_value)"
   ]
  },
  {
   "cell_type": "markdown",
   "metadata": {},
   "source": [
    "# Voting Regression"
   ]
  },
  {
   "cell_type": "code",
   "execution_count": 23,
   "metadata": {},
   "outputs": [
    {
     "name": "stdout",
     "output_type": "stream",
     "text": [
      "r2_score = 0.8654\n",
      "\n",
      "mae = 0.1771\n",
      "\n"
     ]
    }
   ],
   "source": [
    "# Define the preprocessing step\n",
    "step1 = ColumnTransformer(transformers=[\n",
    "    ('col_tnf', OneHotEncoder(sparse_output=False, drop='first'), [0,1,7,10,11])\n",
    "], remainder='passthrough')\n",
    "\n",
    "# Define the base models\n",
    "model1 = LinearRegression()\n",
    "model2 = Ridge(alpha=10)\n",
    "model3 = Lasso(alpha=0.001)\n",
    "model4 = RandomForestRegressor(n_estimators=100, random_state=42)\n",
    "model5 = XGBRegressor(n_estimators=100, learning_rate=0.1, random_state=42)\n",
    "\n",
    "# Define the ensemble model using Voting Regressor\n",
    "step2 = VotingRegressor(estimators=[\n",
    "    ('lr', model1),\n",
    "    ('ridge', model2),\n",
    "    ('lasso', model3),\n",
    "    ('rf', model4),\n",
    "    ('xgb', model5)\n",
    "])\n",
    "\n",
    "# Create a pipeline\n",
    "VOTING_PIPE = Pipeline([('step1', step1), ('step2', step2)])\n",
    "\n",
    "# Train the model\n",
    "VOTING_PIPE.fit(X_train, y_train)\n",
    "\n",
    "# Make predictions\n",
    "y_pred = VOTING_PIPE.predict(X_test)\n",
    "\n",
    "# Calculate metrics\n",
    "r2_value = 'r2_score = {:.4f}\\n'.format(r2_score(y_test, y_pred))\n",
    "mae_value = 'mae = {:.4f}\\n'.format(mean_absolute_error(y_test, y_pred))\n",
    "\n",
    "# Print results\n",
    "print(r2_value)\n",
    "print(mae_value)\n",
    "\n",
    "# Save results\n",
    "save_result('Voting Regressor:\\n' + r2_value + mae_value)"
   ]
  },
  {
   "cell_type": "markdown",
   "metadata": {},
   "source": [
    "# Stacking"
   ]
  },
  {
   "cell_type": "code",
   "execution_count": 24,
   "metadata": {},
   "outputs": [
    {
     "name": "stdout",
     "output_type": "stream",
     "text": [
      "r2_score = 0.8867\n",
      "\n",
      "mae = 0.1600\n",
      "\n"
     ]
    }
   ],
   "source": [
    "# Define the preprocessing step\n",
    "step1 = ColumnTransformer(transformers=[\n",
    "    ('col_tnf', OneHotEncoder(sparse_output=False, drop='first'), [0,1,7,10,11])\n",
    "], remainder='passthrough')\n",
    "\n",
    "# Define base models\n",
    "model1 = LinearRegression()\n",
    "model2 = Ridge(alpha=10)\n",
    "model3 = Lasso(alpha=0.001)\n",
    "model4 = RandomForestRegressor(n_estimators=100, random_state=42)\n",
    "model5 = XGBRegressor(n_estimators=100, learning_rate=0.1, random_state=42)\n",
    "\n",
    "# Define meta-model\n",
    "meta_model = GradientBoostingRegressor(n_estimators=50, learning_rate=0.1, random_state=42)\n",
    "\n",
    "# Define Stacking Regressor\n",
    "step2 = StackingRegressor(estimators=[\n",
    "    ('lr', model1),\n",
    "    ('ridge', model2),\n",
    "    ('lasso', model3),\n",
    "    ('rf', model4),\n",
    "    ('xgb', model5)\n",
    "], final_estimator=meta_model)\n",
    "\n",
    "# Create a pipeline\n",
    "STACKING_PIPE = Pipeline([('step1', step1), ('step2', step2)])\n",
    "\n",
    "# Train the model\n",
    "STACKING_PIPE.fit(X_train, y_train)\n",
    "\n",
    "# Make predictions\n",
    "y_pred = STACKING_PIPE.predict(X_test)\n",
    "\n",
    "# Calculate metrics\n",
    "r2_value = 'r2_score = {:.4f}\\n'.format(r2_score(y_test, y_pred))  \n",
    "mae_value = 'mae = {:.4f}\\n'.format(mean_absolute_error(y_test, y_pred))\n",
    "\n",
    "# Print results\n",
    "print(r2_value)\n",
    "print(mae_value)\n",
    "\n",
    "# Save results\n",
    "save_result('Stacking Regressor:\\n' + r2_value + mae_value)\n"
   ]
  },
  {
   "cell_type": "code",
   "execution_count": 25,
   "metadata": {},
   "outputs": [],
   "source": [
    "import joblib\n"
   ]
  },
  {
   "cell_type": "code",
   "execution_count": 27,
   "metadata": {},
   "outputs": [
    {
     "name": "stdout",
     "output_type": "stream",
     "text": [
      "Model saved as xgboost_pipeline.pkl\n"
     ]
    }
   ],
   "source": [
    "# Save the trained model\n",
    "joblib.dump(XG_PIPE, 'model/xgboost_pipeline.pkl')\n",
    "print(\"Model saved as xgboost_pipeline.pkl\")\n"
   ]
  },
  {
   "cell_type": "code",
   "execution_count": null,
   "metadata": {},
   "outputs": [],
   "source": []
  }
 ],
 "metadata": {
  "kernelspec": {
   "display_name": "base",
   "language": "python",
   "name": "python3"
  },
  "language_info": {
   "codemirror_mode": {
    "name": "ipython",
    "version": 3
   },
   "file_extension": ".py",
   "mimetype": "text/x-python",
   "name": "python",
   "nbconvert_exporter": "python",
   "pygments_lexer": "ipython3",
   "version": "3.12.4"
  }
 },
 "nbformat": 4,
 "nbformat_minor": 2
}
