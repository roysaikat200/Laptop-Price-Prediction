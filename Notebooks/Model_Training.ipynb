{
 "cells": [
  {
   "cell_type": "code",
   "execution_count": 76,
   "metadata": {},
   "outputs": [],
   "source": [
    "import numpy as np\n",
    "import pandas as pd"
   ]
  },
  {
   "cell_type": "code",
   "execution_count": 77,
   "metadata": {},
   "outputs": [],
   "source": [
    "from sklearn.compose import ColumnTransformer\n",
    "from sklearn.pipeline import Pipeline\n",
    "from sklearn.preprocessing import OneHotEncoder\n",
    "from sklearn.metrics import r2_score,mean_absolute_error"
   ]
  },
  {
   "cell_type": "code",
   "execution_count": 78,
   "metadata": {},
   "outputs": [],
   "source": [
    "from sklearn.linear_model import LinearRegression,Ridge,Lasso\n",
    "from sklearn.neighbors import KNeighborsRegressor\n",
    "from sklearn.tree import DecisionTreeRegressor\n",
    "from sklearn.ensemble import RandomForestRegressor,GradientBoostingRegressor,AdaBoostRegressor,ExtraTreesRegressor, VotingRegressor, StackingRegressor\n",
    "from sklearn.svm import SVR\n",
    "from xgboost import XGBRegressor"
   ]
  },
  {
   "cell_type": "code",
   "execution_count": 79,
   "metadata": {},
   "outputs": [
    {
     "data": {
      "text/html": [
       "<div>\n",
       "<style scoped>\n",
       "    .dataframe tbody tr th:only-of-type {\n",
       "        vertical-align: middle;\n",
       "    }\n",
       "\n",
       "    .dataframe tbody tr th {\n",
       "        vertical-align: top;\n",
       "    }\n",
       "\n",
       "    .dataframe thead th {\n",
       "        text-align: right;\n",
       "    }\n",
       "</style>\n",
       "<table border=\"1\" class=\"dataframe\">\n",
       "  <thead>\n",
       "    <tr style=\"text-align: right;\">\n",
       "      <th></th>\n",
       "      <th>Company</th>\n",
       "      <th>TypeName</th>\n",
       "      <th>Ram</th>\n",
       "      <th>Weight</th>\n",
       "      <th>Price</th>\n",
       "      <th>Touchscreen</th>\n",
       "      <th>Ips</th>\n",
       "      <th>Ppi</th>\n",
       "      <th>Cpu brand</th>\n",
       "      <th>HDD</th>\n",
       "      <th>SSD</th>\n",
       "      <th>Gpu brand</th>\n",
       "      <th>Os</th>\n",
       "    </tr>\n",
       "  </thead>\n",
       "  <tbody>\n",
       "    <tr>\n",
       "      <th>0</th>\n",
       "      <td>Apple</td>\n",
       "      <td>Ultrabook</td>\n",
       "      <td>8</td>\n",
       "      <td>1.37</td>\n",
       "      <td>71378</td>\n",
       "      <td>0</td>\n",
       "      <td>1</td>\n",
       "      <td>226.983005</td>\n",
       "      <td>Intel Core i5</td>\n",
       "      <td>0</td>\n",
       "      <td>128</td>\n",
       "      <td>Intel</td>\n",
       "      <td>Mac</td>\n",
       "    </tr>\n",
       "    <tr>\n",
       "      <th>1</th>\n",
       "      <td>Apple</td>\n",
       "      <td>Ultrabook</td>\n",
       "      <td>8</td>\n",
       "      <td>1.34</td>\n",
       "      <td>47895</td>\n",
       "      <td>0</td>\n",
       "      <td>0</td>\n",
       "      <td>127.677940</td>\n",
       "      <td>Intel Core i5</td>\n",
       "      <td>0</td>\n",
       "      <td>0</td>\n",
       "      <td>Intel</td>\n",
       "      <td>Mac</td>\n",
       "    </tr>\n",
       "    <tr>\n",
       "      <th>2</th>\n",
       "      <td>HP</td>\n",
       "      <td>Notebook</td>\n",
       "      <td>8</td>\n",
       "      <td>1.86</td>\n",
       "      <td>30636</td>\n",
       "      <td>0</td>\n",
       "      <td>0</td>\n",
       "      <td>141.211998</td>\n",
       "      <td>Intel Core i5</td>\n",
       "      <td>0</td>\n",
       "      <td>256</td>\n",
       "      <td>Intel</td>\n",
       "      <td>Others/No OS/Linux</td>\n",
       "    </tr>\n",
       "    <tr>\n",
       "      <th>3</th>\n",
       "      <td>Apple</td>\n",
       "      <td>Ultrabook</td>\n",
       "      <td>16</td>\n",
       "      <td>1.83</td>\n",
       "      <td>135195</td>\n",
       "      <td>0</td>\n",
       "      <td>1</td>\n",
       "      <td>220.534624</td>\n",
       "      <td>Intel Core i7</td>\n",
       "      <td>0</td>\n",
       "      <td>512</td>\n",
       "      <td>AMD</td>\n",
       "      <td>Mac</td>\n",
       "    </tr>\n",
       "    <tr>\n",
       "      <th>4</th>\n",
       "      <td>Apple</td>\n",
       "      <td>Ultrabook</td>\n",
       "      <td>8</td>\n",
       "      <td>1.37</td>\n",
       "      <td>96095</td>\n",
       "      <td>0</td>\n",
       "      <td>1</td>\n",
       "      <td>226.983005</td>\n",
       "      <td>Intel Core i5</td>\n",
       "      <td>0</td>\n",
       "      <td>256</td>\n",
       "      <td>Intel</td>\n",
       "      <td>Mac</td>\n",
       "    </tr>\n",
       "    <tr>\n",
       "      <th>...</th>\n",
       "      <td>...</td>\n",
       "      <td>...</td>\n",
       "      <td>...</td>\n",
       "      <td>...</td>\n",
       "      <td>...</td>\n",
       "      <td>...</td>\n",
       "      <td>...</td>\n",
       "      <td>...</td>\n",
       "      <td>...</td>\n",
       "      <td>...</td>\n",
       "      <td>...</td>\n",
       "      <td>...</td>\n",
       "      <td>...</td>\n",
       "    </tr>\n",
       "    <tr>\n",
       "      <th>1297</th>\n",
       "      <td>Lenovo</td>\n",
       "      <td>2 in 1 Convertible</td>\n",
       "      <td>4</td>\n",
       "      <td>1.80</td>\n",
       "      <td>33992</td>\n",
       "      <td>1</td>\n",
       "      <td>1</td>\n",
       "      <td>157.350512</td>\n",
       "      <td>Intel Core i7</td>\n",
       "      <td>0</td>\n",
       "      <td>128</td>\n",
       "      <td>Intel</td>\n",
       "      <td>Windows</td>\n",
       "    </tr>\n",
       "    <tr>\n",
       "      <th>1298</th>\n",
       "      <td>Lenovo</td>\n",
       "      <td>2 in 1 Convertible</td>\n",
       "      <td>16</td>\n",
       "      <td>1.30</td>\n",
       "      <td>79866</td>\n",
       "      <td>1</td>\n",
       "      <td>1</td>\n",
       "      <td>276.053530</td>\n",
       "      <td>Intel Core i7</td>\n",
       "      <td>0</td>\n",
       "      <td>512</td>\n",
       "      <td>Intel</td>\n",
       "      <td>Windows</td>\n",
       "    </tr>\n",
       "    <tr>\n",
       "      <th>1299</th>\n",
       "      <td>Lenovo</td>\n",
       "      <td>Notebook</td>\n",
       "      <td>2</td>\n",
       "      <td>1.50</td>\n",
       "      <td>12201</td>\n",
       "      <td>0</td>\n",
       "      <td>0</td>\n",
       "      <td>111.935204</td>\n",
       "      <td>Other Intel Processor</td>\n",
       "      <td>0</td>\n",
       "      <td>0</td>\n",
       "      <td>Intel</td>\n",
       "      <td>Windows</td>\n",
       "    </tr>\n",
       "    <tr>\n",
       "      <th>1300</th>\n",
       "      <td>HP</td>\n",
       "      <td>Notebook</td>\n",
       "      <td>6</td>\n",
       "      <td>2.19</td>\n",
       "      <td>40705</td>\n",
       "      <td>0</td>\n",
       "      <td>0</td>\n",
       "      <td>100.454670</td>\n",
       "      <td>Intel Core i7</td>\n",
       "      <td>1000</td>\n",
       "      <td>0</td>\n",
       "      <td>AMD</td>\n",
       "      <td>Windows</td>\n",
       "    </tr>\n",
       "    <tr>\n",
       "      <th>1301</th>\n",
       "      <td>Asus</td>\n",
       "      <td>Notebook</td>\n",
       "      <td>4</td>\n",
       "      <td>2.20</td>\n",
       "      <td>19660</td>\n",
       "      <td>0</td>\n",
       "      <td>0</td>\n",
       "      <td>100.454670</td>\n",
       "      <td>Other Intel Processor</td>\n",
       "      <td>500</td>\n",
       "      <td>0</td>\n",
       "      <td>Intel</td>\n",
       "      <td>Windows</td>\n",
       "    </tr>\n",
       "  </tbody>\n",
       "</table>\n",
       "<p>1302 rows × 13 columns</p>\n",
       "</div>"
      ],
      "text/plain": [
       "     Company            TypeName  Ram  Weight   Price  Touchscreen  Ips  \\\n",
       "0      Apple           Ultrabook    8    1.37   71378            0    1   \n",
       "1      Apple           Ultrabook    8    1.34   47895            0    0   \n",
       "2         HP            Notebook    8    1.86   30636            0    0   \n",
       "3      Apple           Ultrabook   16    1.83  135195            0    1   \n",
       "4      Apple           Ultrabook    8    1.37   96095            0    1   \n",
       "...      ...                 ...  ...     ...     ...          ...  ...   \n",
       "1297  Lenovo  2 in 1 Convertible    4    1.80   33992            1    1   \n",
       "1298  Lenovo  2 in 1 Convertible   16    1.30   79866            1    1   \n",
       "1299  Lenovo            Notebook    2    1.50   12201            0    0   \n",
       "1300      HP            Notebook    6    2.19   40705            0    0   \n",
       "1301    Asus            Notebook    4    2.20   19660            0    0   \n",
       "\n",
       "             Ppi              Cpu brand   HDD  SSD Gpu brand  \\\n",
       "0     226.983005          Intel Core i5     0  128     Intel   \n",
       "1     127.677940          Intel Core i5     0    0     Intel   \n",
       "2     141.211998          Intel Core i5     0  256     Intel   \n",
       "3     220.534624          Intel Core i7     0  512       AMD   \n",
       "4     226.983005          Intel Core i5     0  256     Intel   \n",
       "...          ...                    ...   ...  ...       ...   \n",
       "1297  157.350512          Intel Core i7     0  128     Intel   \n",
       "1298  276.053530          Intel Core i7     0  512     Intel   \n",
       "1299  111.935204  Other Intel Processor     0    0     Intel   \n",
       "1300  100.454670          Intel Core i7  1000    0       AMD   \n",
       "1301  100.454670  Other Intel Processor   500    0     Intel   \n",
       "\n",
       "                      Os  \n",
       "0                    Mac  \n",
       "1                    Mac  \n",
       "2     Others/No OS/Linux  \n",
       "3                    Mac  \n",
       "4                    Mac  \n",
       "...                  ...  \n",
       "1297             Windows  \n",
       "1298             Windows  \n",
       "1299             Windows  \n",
       "1300             Windows  \n",
       "1301             Windows  \n",
       "\n",
       "[1302 rows x 13 columns]"
      ]
     },
     "execution_count": 79,
     "metadata": {},
     "output_type": "execute_result"
    }
   ],
   "source": [
    "df = pd.read_csv(\"data/Final_Dataset.csv\")\n",
    "df"
   ]
  },
  {
   "cell_type": "code",
   "execution_count": 80,
   "metadata": {},
   "outputs": [],
   "source": [
    "X = df.drop(columns=['Price'])\n",
    "y = np.log(df['Price'])"
   ]
  },
  {
   "cell_type": "code",
   "execution_count": 81,
   "metadata": {},
   "outputs": [
    {
     "data": {
      "text/html": [
       "<div>\n",
       "<style scoped>\n",
       "    .dataframe tbody tr th:only-of-type {\n",
       "        vertical-align: middle;\n",
       "    }\n",
       "\n",
       "    .dataframe tbody tr th {\n",
       "        vertical-align: top;\n",
       "    }\n",
       "\n",
       "    .dataframe thead th {\n",
       "        text-align: right;\n",
       "    }\n",
       "</style>\n",
       "<table border=\"1\" class=\"dataframe\">\n",
       "  <thead>\n",
       "    <tr style=\"text-align: right;\">\n",
       "      <th></th>\n",
       "      <th>Company</th>\n",
       "      <th>TypeName</th>\n",
       "      <th>Ram</th>\n",
       "      <th>Weight</th>\n",
       "      <th>Touchscreen</th>\n",
       "      <th>Ips</th>\n",
       "      <th>Ppi</th>\n",
       "      <th>Cpu brand</th>\n",
       "      <th>HDD</th>\n",
       "      <th>SSD</th>\n",
       "      <th>Gpu brand</th>\n",
       "      <th>Os</th>\n",
       "    </tr>\n",
       "  </thead>\n",
       "  <tbody>\n",
       "    <tr>\n",
       "      <th>0</th>\n",
       "      <td>Apple</td>\n",
       "      <td>Ultrabook</td>\n",
       "      <td>8</td>\n",
       "      <td>1.37</td>\n",
       "      <td>0</td>\n",
       "      <td>1</td>\n",
       "      <td>226.983005</td>\n",
       "      <td>Intel Core i5</td>\n",
       "      <td>0</td>\n",
       "      <td>128</td>\n",
       "      <td>Intel</td>\n",
       "      <td>Mac</td>\n",
       "    </tr>\n",
       "    <tr>\n",
       "      <th>1</th>\n",
       "      <td>Apple</td>\n",
       "      <td>Ultrabook</td>\n",
       "      <td>8</td>\n",
       "      <td>1.34</td>\n",
       "      <td>0</td>\n",
       "      <td>0</td>\n",
       "      <td>127.677940</td>\n",
       "      <td>Intel Core i5</td>\n",
       "      <td>0</td>\n",
       "      <td>0</td>\n",
       "      <td>Intel</td>\n",
       "      <td>Mac</td>\n",
       "    </tr>\n",
       "    <tr>\n",
       "      <th>2</th>\n",
       "      <td>HP</td>\n",
       "      <td>Notebook</td>\n",
       "      <td>8</td>\n",
       "      <td>1.86</td>\n",
       "      <td>0</td>\n",
       "      <td>0</td>\n",
       "      <td>141.211998</td>\n",
       "      <td>Intel Core i5</td>\n",
       "      <td>0</td>\n",
       "      <td>256</td>\n",
       "      <td>Intel</td>\n",
       "      <td>Others/No OS/Linux</td>\n",
       "    </tr>\n",
       "    <tr>\n",
       "      <th>3</th>\n",
       "      <td>Apple</td>\n",
       "      <td>Ultrabook</td>\n",
       "      <td>16</td>\n",
       "      <td>1.83</td>\n",
       "      <td>0</td>\n",
       "      <td>1</td>\n",
       "      <td>220.534624</td>\n",
       "      <td>Intel Core i7</td>\n",
       "      <td>0</td>\n",
       "      <td>512</td>\n",
       "      <td>AMD</td>\n",
       "      <td>Mac</td>\n",
       "    </tr>\n",
       "    <tr>\n",
       "      <th>4</th>\n",
       "      <td>Apple</td>\n",
       "      <td>Ultrabook</td>\n",
       "      <td>8</td>\n",
       "      <td>1.37</td>\n",
       "      <td>0</td>\n",
       "      <td>1</td>\n",
       "      <td>226.983005</td>\n",
       "      <td>Intel Core i5</td>\n",
       "      <td>0</td>\n",
       "      <td>256</td>\n",
       "      <td>Intel</td>\n",
       "      <td>Mac</td>\n",
       "    </tr>\n",
       "  </tbody>\n",
       "</table>\n",
       "</div>"
      ],
      "text/plain": [
       "  Company   TypeName  Ram  Weight  Touchscreen  Ips         Ppi  \\\n",
       "0   Apple  Ultrabook    8    1.37            0    1  226.983005   \n",
       "1   Apple  Ultrabook    8    1.34            0    0  127.677940   \n",
       "2      HP   Notebook    8    1.86            0    0  141.211998   \n",
       "3   Apple  Ultrabook   16    1.83            0    1  220.534624   \n",
       "4   Apple  Ultrabook    8    1.37            0    1  226.983005   \n",
       "\n",
       "       Cpu brand  HDD  SSD Gpu brand                  Os  \n",
       "0  Intel Core i5    0  128     Intel                 Mac  \n",
       "1  Intel Core i5    0    0     Intel                 Mac  \n",
       "2  Intel Core i5    0  256     Intel  Others/No OS/Linux  \n",
       "3  Intel Core i7    0  512       AMD                 Mac  \n",
       "4  Intel Core i5    0  256     Intel                 Mac  "
      ]
     },
     "execution_count": 81,
     "metadata": {},
     "output_type": "execute_result"
    }
   ],
   "source": [
    "X.head(5)"
   ]
  },
  {
   "cell_type": "code",
   "execution_count": 82,
   "metadata": {},
   "outputs": [
    {
     "data": {
      "text/plain": [
       "0    11.175745\n",
       "1    10.776766\n",
       "2    10.329931\n",
       "3    11.814473\n",
       "4    11.473093\n",
       "Name: Price, dtype: float64"
      ]
     },
     "execution_count": 82,
     "metadata": {},
     "output_type": "execute_result"
    }
   ],
   "source": [
    "y.head(5)"
   ]
  },
  {
   "cell_type": "code",
   "execution_count": 83,
   "metadata": {},
   "outputs": [],
   "source": [
    "from sklearn.model_selection import train_test_split\n",
    "X_train,X_test,y_train,y_test = train_test_split(X,y,test_size=0.15,random_state=2)"
   ]
  },
  {
   "cell_type": "code",
   "execution_count": 84,
   "metadata": {},
   "outputs": [],
   "source": [
    "def save_result(result):\n",
    "    with open('result.txt', 'a') as file:  # Open in append mode\n",
    "        file.write(result + '\\n')  # Write result with a new line\n"
   ]
  },
  {
   "cell_type": "markdown",
   "metadata": {},
   "source": [
    "# Linear Regression"
   ]
  },
  {
   "cell_type": "code",
   "execution_count": 85,
   "metadata": {},
   "outputs": [
    {
     "name": "stdout",
     "output_type": "stream",
     "text": [
      "r2_score = 0.8073\n",
      "\n",
      "mae = 0.2102\n",
      "\n"
     ]
    }
   ],
   "source": [
    "# Define the preprocessing step\n",
    "step1 = ColumnTransformer(transformers=[\n",
    "    ('col_tnf', OneHotEncoder(sparse_output=False, drop='first'), [0,1,7,10,11])\n",
    "], remainder='passthrough')\n",
    "\n",
    "# Define the model\n",
    "step2 = LinearRegression()\n",
    "\n",
    "# Create a pipeline\n",
    "pipe = Pipeline([('step1', step1), ('step2', step2)])\n",
    "\n",
    "# Train the model\n",
    "pipe.fit(X_train, y_train)\n",
    "\n",
    "# Make predictions\n",
    "y_pred = pipe.predict(X_test)\n",
    "\n",
    "# Calculate metrics\n",
    "r2_value = 'r2_score = {:.4f}\\n'.format(r2_score(y_test, y_pred))  # Avoid overriding function name\n",
    "mae_value = 'mae = {:.4f}\\n'.format(mean_absolute_error(y_test, y_pred))\n",
    "\n",
    "# Print results\n",
    "print(r2_value)\n",
    "print(mae_value)\n",
    "\n",
    "# Save results\n",
    "save_result('LinearRegression:\\n' + r2_value + mae_value)\n"
   ]
  },
  {
   "cell_type": "markdown",
   "metadata": {},
   "source": [
    "# Ridge Regression"
   ]
  },
  {
   "cell_type": "code",
   "execution_count": 86,
   "metadata": {},
   "outputs": [
    {
     "name": "stdout",
     "output_type": "stream",
     "text": [
      "r2_score = 0.8127\n",
      "\n",
      "mae = 0.2093\n",
      "\n"
     ]
    }
   ],
   "source": [
    "# Define the preprocessing step\n",
    "step1 = ColumnTransformer(transformers=[\n",
    "    ('col_tnf', OneHotEncoder(sparse_output=False, drop='first'), [0,1,7,10,11])  # One-hot encode categorical columns\n",
    "], remainder='passthrough')\n",
    "\n",
    "# Define the Ridge regression model with alpha=10\n",
    "step2 = Ridge(alpha=10)\n",
    "\n",
    "# Create a pipeline\n",
    "pipe = Pipeline([('step1', step1), ('step2', step2)])\n",
    "\n",
    "# Train the model\n",
    "pipe.fit(X_train, y_train)\n",
    "\n",
    "# Make predictions\n",
    "y_pred = pipe.predict(X_test)\n",
    "\n",
    "# Calculate metrics\n",
    "r2_value = 'r2_score = {:.4f}\\n'.format(r2_score(y_test, y_pred))  # Compute R-squared score\n",
    "mae_value = 'mae = {:.4f}\\n'.format(mean_absolute_error(y_test, y_pred))  # Compute Mean Absolute Error\n",
    "\n",
    "# Print results\n",
    "print(r2_value)\n",
    "print(mae_value)\n",
    "\n",
    "# Save results\n",
    "save_result('Ridge Regression:\\n' + r2_value + mae_value)\n"
   ]
  },
  {
   "cell_type": "markdown",
   "metadata": {},
   "source": [
    "# Lasso Regression"
   ]
  },
  {
   "cell_type": "code",
   "execution_count": 87,
   "metadata": {},
   "outputs": [
    {
     "name": "stdout",
     "output_type": "stream",
     "text": [
      "r2_score = 0.8072\n",
      "\n",
      "mae = 0.2111\n",
      "\n"
     ]
    }
   ],
   "source": [
    "# Define the preprocessing step\n",
    "step1 = ColumnTransformer(transformers=[\n",
    "    ('col_tnf', OneHotEncoder(sparse_output=False, drop='first'), [0,1,7,10,11])\n",
    "], remainder='passthrough')\n",
    "\n",
    "# Define the model\n",
    "step2 = Lasso(alpha=0.001)\n",
    "\n",
    "# Create a pipeline\n",
    "pipe = Pipeline([('step1', step1), ('step2', step2)])\n",
    "\n",
    "# Train the model\n",
    "pipe.fit(X_train, y_train)\n",
    "\n",
    "# Make predictions\n",
    "y_pred = pipe.predict(X_test)\n",
    "\n",
    "# Calculate metrics\n",
    "r2_value = 'r2_score = {:.4f}\\n'.format(r2_score(y_test, y_pred))\n",
    "mae_value = 'mae = {:.4f}\\n'.format(mean_absolute_error(y_test, y_pred))\n",
    "\n",
    "# Print results\n",
    "print(r2_value)\n",
    "print(mae_value)\n",
    "\n",
    "# Save results\n",
    "save_result('Lasso Regression:\\n' + r2_value + mae_value)"
   ]
  },
  {
   "cell_type": "markdown",
   "metadata": {},
   "source": [
    "# KNN"
   ]
  },
  {
   "cell_type": "code",
   "execution_count": 88,
   "metadata": {},
   "outputs": [
    {
     "name": "stdout",
     "output_type": "stream",
     "text": [
      "r2_score = 0.8045\n",
      "\n",
      "mae = 0.1991\n",
      "\n"
     ]
    }
   ],
   "source": [
    "# Define the preprocessing step\n",
    "step1 = ColumnTransformer(transformers=[\n",
    "    ('col_tnf', OneHotEncoder(sparse_output=False, drop='first'), [0,1,7,10,11])\n",
    "], remainder='passthrough')\n",
    "\n",
    "# Define the model\n",
    "step2 = KNeighborsRegressor(n_neighbors=5)\n",
    "\n",
    "# Create a pipeline\n",
    "pipe = Pipeline([('step1', step1), ('step2', step2)])\n",
    "\n",
    "# Train the model\n",
    "pipe.fit(X_train, y_train)\n",
    "\n",
    "# Make predictions\n",
    "y_pred = pipe.predict(X_test)\n",
    "\n",
    "# Calculate metrics\n",
    "r2_value = 'r2_score = {:.4f}\\n'.format(r2_score(y_test, y_pred))\n",
    "mae_value = 'mae = {:.4f}\\n'.format(mean_absolute_error(y_test, y_pred))\n",
    "\n",
    "# Print results\n",
    "print(r2_value)\n",
    "print(mae_value)\n",
    "\n",
    "# Save results\n",
    "save_result('KNN Regression:\\n' + r2_value + mae_value)"
   ]
  },
  {
   "cell_type": "markdown",
   "metadata": {},
   "source": [
    "# Decision Tree"
   ]
  },
  {
   "cell_type": "code",
   "execution_count": 89,
   "metadata": {},
   "outputs": [
    {
     "name": "stdout",
     "output_type": "stream",
     "text": [
      "r2_score = 0.7806\n",
      "\n",
      "mae = 0.2085\n",
      "\n"
     ]
    }
   ],
   "source": [
    "# Define the preprocessing step\n",
    "step1 = ColumnTransformer(transformers=[\n",
    "    ('col_tnf', OneHotEncoder(sparse_output=False, drop='first'), [0,1,7,10,11])\n",
    "], remainder='passthrough')\n",
    "\n",
    "# Define the model\n",
    "step2 = DecisionTreeRegressor(random_state=42)\n",
    "\n",
    "# Create a pipeline\n",
    "pipe = Pipeline([('step1', step1), ('step2', step2)])\n",
    "\n",
    "# Train the model\n",
    "pipe.fit(X_train, y_train)\n",
    "\n",
    "# Make predictions\n",
    "y_pred = pipe.predict(X_test)\n",
    "\n",
    "# Calculate metrics\n",
    "r2_value = 'r2_score = {:.4f}\\n'.format(r2_score(y_test, y_pred))\n",
    "mae_value = 'mae = {:.4f}\\n'.format(mean_absolute_error(y_test, y_pred))\n",
    "\n",
    "# Print results\n",
    "print(r2_value)\n",
    "print(mae_value)\n",
    "\n",
    "# Save results\n",
    "save_result('Decision Tree Regression:\\n' + r2_value + mae_value)\n"
   ]
  },
  {
   "cell_type": "markdown",
   "metadata": {},
   "source": [
    "# SVM"
   ]
  },
  {
   "cell_type": "code",
   "execution_count": 90,
   "metadata": {},
   "outputs": [
    {
     "name": "stdout",
     "output_type": "stream",
     "text": [
      "r2_score = 0.6111\n",
      "\n",
      "mae = 0.2959\n",
      "\n"
     ]
    }
   ],
   "source": [
    "# Define the preprocessing step\n",
    "step1 = ColumnTransformer(transformers=[\n",
    "    ('col_tnf', OneHotEncoder(sparse_output=False, drop='first'), [0,1,7,10,11])\n",
    "], remainder='passthrough')\n",
    "\n",
    "# Define the model\n",
    "step2 = SVR(kernel='rbf')\n",
    "\n",
    "# Create a pipeline\n",
    "pipe = Pipeline([('step1', step1), ('step2', step2)])\n",
    "\n",
    "# Train the model\n",
    "pipe.fit(X_train, y_train)\n",
    "\n",
    "# Make predictions\n",
    "y_pred = pipe.predict(X_test)\n",
    "\n",
    "# Calculate metrics\n",
    "r2_value = 'r2_score = {:.4f}\\n'.format(r2_score(y_test, y_pred))\n",
    "mae_value = 'mae = {:.4f}\\n'.format(mean_absolute_error(y_test, y_pred))\n",
    "\n",
    "# Print results\n",
    "print(r2_value)\n",
    "print(mae_value)\n",
    "\n",
    "# Save results\n",
    "save_result('Support Vector Regression (SVR):\\n' + r2_value + mae_value)\n"
   ]
  },
  {
   "cell_type": "markdown",
   "metadata": {},
   "source": [
    "# Random Forest"
   ]
  },
  {
   "cell_type": "code",
   "execution_count": 91,
   "metadata": {},
   "outputs": [
    {
     "name": "stdout",
     "output_type": "stream",
     "text": [
      "r2_score = 0.8857\n",
      "\n",
      "mae = 0.1565\n",
      "\n"
     ]
    }
   ],
   "source": [
    "# Define the preprocessing step\n",
    "step1 = ColumnTransformer(transformers=[\n",
    "    ('col_tnf', OneHotEncoder(sparse_output=False, drop='first'), [0,1,7,10,11])\n",
    "], remainder='passthrough')\n",
    "\n",
    "# Define the model\n",
    "step2 = RandomForestRegressor(n_estimators=100, random_state=42)\n",
    "\n",
    "# Create a pipeline\n",
    "pipe = Pipeline([('step1', step1), ('step2', step2)])\n",
    "\n",
    "# Train the model\n",
    "pipe.fit(X_train, y_train)\n",
    "\n",
    "# Make predictions\n",
    "y_pred = pipe.predict(X_test)\n",
    "\n",
    "# Calculate metrics\n",
    "r2_value = 'r2_score = {:.4f}\\n'.format(r2_score(y_test, y_pred))\n",
    "mae_value = 'mae = {:.4f}\\n'.format(mean_absolute_error(y_test, y_pred))\n",
    "\n",
    "# Print results\n",
    "print(r2_value)\n",
    "print(mae_value)\n",
    "\n",
    "# Save results\n",
    "save_result('Random Forest Regressor:\\n' + r2_value + mae_value)\n"
   ]
  },
  {
   "cell_type": "markdown",
   "metadata": {},
   "source": [
    "# Extra Trees"
   ]
  },
  {
   "cell_type": "code",
   "execution_count": 92,
   "metadata": {},
   "outputs": [
    {
     "name": "stdout",
     "output_type": "stream",
     "text": [
      "r2_score = 0.8687\n",
      "\n",
      "mae = 0.1599\n",
      "\n"
     ]
    }
   ],
   "source": [
    "# Define the preprocessing step\n",
    "step1 = ColumnTransformer(transformers=[\n",
    "    ('col_tnf', OneHotEncoder(sparse_output=False, drop='first'), [0,1,7,10,11])\n",
    "], remainder='passthrough')\n",
    "\n",
    "# Define the model\n",
    "step2 = ExtraTreesRegressor(n_estimators=100, random_state=42)\n",
    "\n",
    "# Create a pipeline\n",
    "pipe = Pipeline([('step1', step1), ('step2', step2)])\n",
    "\n",
    "# Train the model\n",
    "pipe.fit(X_train, y_train)\n",
    "\n",
    "# Make predictions\n",
    "y_pred = pipe.predict(X_test)\n",
    "\n",
    "# Calculate metrics\n",
    "r2_value = 'r2_score = {:.4f}\\n'.format(r2_score(y_test, y_pred))\n",
    "mae_value = 'mae = {:.4f}\\n'.format(mean_absolute_error(y_test, y_pred))\n",
    "\n",
    "# Print results\n",
    "print(r2_value)\n",
    "print(mae_value)\n",
    "\n",
    "# Save results\n",
    "save_result('Extra Trees Regressor:\\n' + r2_value + mae_value)"
   ]
  },
  {
   "cell_type": "markdown",
   "metadata": {},
   "source": [
    "# AdaBoost"
   ]
  },
  {
   "cell_type": "code",
   "execution_count": 93,
   "metadata": {},
   "outputs": [
    {
     "name": "stdout",
     "output_type": "stream",
     "text": [
      "r2_score = 0.7996\n",
      "\n",
      "mae = 0.2271\n",
      "\n"
     ]
    }
   ],
   "source": [
    "# Define the preprocessing step\n",
    "step1 = ColumnTransformer(transformers=[\n",
    "    ('col_tnf', OneHotEncoder(sparse_output=False, drop='first'), [0,1,7,10,11])\n",
    "], remainder='passthrough')\n",
    "\n",
    "# Define the model\n",
    "step2 = AdaBoostRegressor(n_estimators=50, random_state=42)\n",
    "\n",
    "# Create a pipeline\n",
    "pipe = Pipeline([('step1', step1), ('step2', step2)])\n",
    "\n",
    "# Train the model\n",
    "pipe.fit(X_train, y_train)\n",
    "\n",
    "# Make predictions\n",
    "y_pred = pipe.predict(X_test)\n",
    "\n",
    "# Calculate metrics\n",
    "r2_value = 'r2_score = {:.4f}\\n'.format(r2_score(y_test, y_pred))\n",
    "mae_value = 'mae = {:.4f}\\n'.format(mean_absolute_error(y_test, y_pred))\n",
    "\n",
    "# Print results\n",
    "print(r2_value)\n",
    "print(mae_value)\n",
    "\n",
    "# Save results\n",
    "save_result('AdaBoost Regressor:\\n' + r2_value + mae_value)"
   ]
  },
  {
   "cell_type": "markdown",
   "metadata": {},
   "source": [
    "# Gradient Boost"
   ]
  },
  {
   "cell_type": "code",
   "execution_count": 94,
   "metadata": {},
   "outputs": [
    {
     "name": "stdout",
     "output_type": "stream",
     "text": [
      "r2_score = 0.8672\n",
      "\n",
      "mae = 0.1754\n",
      "\n"
     ]
    }
   ],
   "source": [
    "# Define the preprocessing step\n",
    "step1 = ColumnTransformer(transformers=[\n",
    "    ('col_tnf', OneHotEncoder(sparse_output=False, drop='first'), [0,1,7,10,11])\n",
    "], remainder='passthrough')\n",
    "\n",
    "# Define the model\n",
    "step2 = GradientBoostingRegressor(n_estimators=100, learning_rate=0.1, random_state=42)\n",
    "\n",
    "# Create a pipeline\n",
    "pipe = Pipeline([('step1', step1), ('step2', step2)])\n",
    "\n",
    "# Train the model\n",
    "pipe.fit(X_train, y_train)\n",
    "\n",
    "# Make predictions\n",
    "y_pred = pipe.predict(X_test)\n",
    "\n",
    "# Calculate metrics\n",
    "r2_value = 'r2_score = {:.4f}\\n'.format(r2_score(y_test, y_pred))\n",
    "mae_value = 'mae = {:.4f}\\n'.format(mean_absolute_error(y_test, y_pred))\n",
    "\n",
    "# Print results\n",
    "print(r2_value)\n",
    "print(mae_value)\n",
    "\n",
    "# Save results\n",
    "save_result('Gradient Boosting Regressor:\\n' + r2_value + mae_value)"
   ]
  },
  {
   "cell_type": "markdown",
   "metadata": {},
   "source": [
    "# Xg Boost"
   ]
  },
  {
   "cell_type": "code",
   "execution_count": 95,
   "metadata": {},
   "outputs": [
    {
     "name": "stdout",
     "output_type": "stream",
     "text": [
      "r2_score = 0.8881\n",
      "\n",
      "mae = 0.1545\n",
      "\n"
     ]
    }
   ],
   "source": [
    "# Define the preprocessing step\n",
    "step1 = ColumnTransformer(transformers=[\n",
    "    ('col_tnf', OneHotEncoder(sparse_output=False, drop='first'), [0,1,7,10,11])\n",
    "], remainder='passthrough')\n",
    "\n",
    "# Define the model\n",
    "step2 = XGBRegressor(n_estimators=100, learning_rate=0.1, random_state=42)\n",
    "\n",
    "# Create a pipeline\n",
    "pipe = Pipeline([('step1', step1), ('step2', step2)])\n",
    "\n",
    "# Train the model\n",
    "pipe.fit(X_train, y_train)\n",
    "\n",
    "# Make predictions\n",
    "y_pred = pipe.predict(X_test)\n",
    "\n",
    "# Calculate metrics\n",
    "r2_value = 'r2_score = {:.4f}\\n'.format(r2_score(y_test, y_pred))\n",
    "mae_value = 'mae = {:.4f}\\n'.format(mean_absolute_error(y_test, y_pred))\n",
    "\n",
    "# Print results\n",
    "print(r2_value)\n",
    "print(mae_value)\n",
    "\n",
    "# Save results\n",
    "save_result('XGBoost Regressor:\\n' + r2_value + mae_value)"
   ]
  },
  {
   "cell_type": "markdown",
   "metadata": {},
   "source": [
    "# Voting Regression"
   ]
  },
  {
   "cell_type": "code",
   "execution_count": 96,
   "metadata": {},
   "outputs": [
    {
     "name": "stdout",
     "output_type": "stream",
     "text": [
      "r2_score = 0.8654\n",
      "\n",
      "mae = 0.1771\n",
      "\n"
     ]
    }
   ],
   "source": [
    "# Define the preprocessing step\n",
    "step1 = ColumnTransformer(transformers=[\n",
    "    ('col_tnf', OneHotEncoder(sparse_output=False, drop='first'), [0,1,7,10,11])\n",
    "], remainder='passthrough')\n",
    "\n",
    "# Define the base models\n",
    "model1 = LinearRegression()\n",
    "model2 = Ridge(alpha=10)\n",
    "model3 = Lasso(alpha=0.001)\n",
    "model4 = RandomForestRegressor(n_estimators=100, random_state=42)\n",
    "model5 = XGBRegressor(n_estimators=100, learning_rate=0.1, random_state=42)\n",
    "\n",
    "# Define the ensemble model using Voting Regressor\n",
    "step2 = VotingRegressor(estimators=[\n",
    "    ('lr', model1),\n",
    "    ('ridge', model2),\n",
    "    ('lasso', model3),\n",
    "    ('rf', model4),\n",
    "    ('xgb', model5)\n",
    "])\n",
    "\n",
    "# Create a pipeline\n",
    "pipe = Pipeline([('step1', step1), ('step2', step2)])\n",
    "\n",
    "# Train the model\n",
    "pipe.fit(X_train, y_train)\n",
    "\n",
    "# Make predictions\n",
    "y_pred = pipe.predict(X_test)\n",
    "\n",
    "# Calculate metrics\n",
    "r2_value = 'r2_score = {:.4f}\\n'.format(r2_score(y_test, y_pred))\n",
    "mae_value = 'mae = {:.4f}\\n'.format(mean_absolute_error(y_test, y_pred))\n",
    "\n",
    "# Print results\n",
    "print(r2_value)\n",
    "print(mae_value)\n",
    "\n",
    "# Save results\n",
    "save_result('Voting Regressor:\\n' + r2_value + mae_value)"
   ]
  },
  {
   "cell_type": "markdown",
   "metadata": {},
   "source": [
    "# Stacking"
   ]
  },
  {
   "cell_type": "code",
   "execution_count": 97,
   "metadata": {},
   "outputs": [
    {
     "name": "stdout",
     "output_type": "stream",
     "text": [
      "r2_score = 0.8867\n",
      "\n",
      "mae = 0.1600\n",
      "\n"
     ]
    }
   ],
   "source": [
    "# Define the preprocessing step\n",
    "step1 = ColumnTransformer(transformers=[\n",
    "    ('col_tnf', OneHotEncoder(sparse_output=False, drop='first'), [0,1,7,10,11])\n",
    "], remainder='passthrough')\n",
    "\n",
    "# Define base models\n",
    "model1 = LinearRegression()\n",
    "model2 = Ridge(alpha=10)\n",
    "model3 = Lasso(alpha=0.001)\n",
    "model4 = RandomForestRegressor(n_estimators=100, random_state=42)\n",
    "model5 = XGBRegressor(n_estimators=100, learning_rate=0.1, random_state=42)\n",
    "\n",
    "# Define meta-model\n",
    "meta_model = GradientBoostingRegressor(n_estimators=50, learning_rate=0.1, random_state=42)\n",
    "\n",
    "# Define Stacking Regressor\n",
    "step2 = StackingRegressor(estimators=[\n",
    "    ('lr', model1),\n",
    "    ('ridge', model2),\n",
    "    ('lasso', model3),\n",
    "    ('rf', model4),\n",
    "    ('xgb', model5)\n",
    "], final_estimator=meta_model)\n",
    "\n",
    "# Create a pipeline\n",
    "pipe = Pipeline([('step1', step1), ('step2', step2)])\n",
    "\n",
    "# Train the model\n",
    "pipe.fit(X_train, y_train)\n",
    "\n",
    "# Make predictions\n",
    "y_pred = pipe.predict(X_test)\n",
    "\n",
    "# Calculate metrics\n",
    "r2_value = 'r2_score = {:.4f}\\n'.format(r2_score(y_test, y_pred))  \n",
    "mae_value = 'mae = {:.4f}\\n'.format(mean_absolute_error(y_test, y_pred))\n",
    "\n",
    "# Print results\n",
    "print(r2_value)\n",
    "print(mae_value)\n",
    "\n",
    "# Save results\n",
    "save_result('Stacking Regressor:\\n' + r2_value + mae_value)\n"
   ]
  },
  {
   "cell_type": "markdown",
   "metadata": {},
   "source": [
    "# Exporting the model"
   ]
  },
  {
   "cell_type": "code",
   "execution_count": null,
   "metadata": {},
   "outputs": [],
   "source": [
    "import pickle"
   ]
  },
  {
   "cell_type": "code",
   "execution_count": 101,
   "metadata": {},
   "outputs": [
    {
     "name": "stdout",
     "output_type": "stream",
     "text": [
      "Model saved successfully as 'xgboost_pipeline.pkl'\n"
     ]
    }
   ],
   "source": [
    "# Define the preprocessing step\n",
    "step1 = ColumnTransformer(transformers=[\n",
    "    ('col_tnf', OneHotEncoder(sparse_output=False, drop='first'), [0,1,7,10,11])\n",
    "], remainder='passthrough')\n",
    "\n",
    "# Define the model\n",
    "step2 = XGBRegressor(n_estimators=100, learning_rate=0.1, random_state=42)\n",
    "\n",
    "# Create a pipeline\n",
    "pipe = Pipeline([('step1', step1), ('step2', step2)])\n",
    "\n",
    "# Train the model\n",
    "pipe.fit(X_train, y_train)\n",
    "\n",
    "# Save the trained pipeline to a file\n",
    "with open('xgboost_pipeline.pkl', 'wb') as file:\n",
    "    pickle.dump(pipe, file)\n",
    "\n",
    "print(\"Model saved successfully as 'xgboost_pipeline.pkl'\")\n"
   ]
  },
  {
   "cell_type": "code",
   "execution_count": 103,
   "metadata": {},
   "outputs": [
    {
     "name": "stdout",
     "output_type": "stream",
     "text": [
      "Predictions: [10.580947   9.73939    9.841462  10.129512  11.397754  11.528799\n",
      " 10.138639  10.479771  11.105549   9.716559  11.146655  10.898071\n",
      " 11.46136   10.821007  11.468856  10.998773  11.021063   9.744024\n",
      " 11.5392275 11.566503  11.50012   11.269388  10.558029  10.937949\n",
      " 10.218255  11.576468  10.900183  10.054203  11.005717  10.536584\n",
      " 11.134018  10.018679  10.859791  10.870575  11.007909  10.72758\n",
      " 11.029966  11.053832  11.426454  11.396256  11.450376  11.165958\n",
      "  9.8561945  9.743316  10.217672   9.758047  10.85878   11.662454\n",
      " 11.391047  11.03015   11.698503  11.532744   9.907879   9.306399\n",
      " 10.494925  10.841766  10.075022  11.162067  10.253377  10.345437\n",
      " 11.187673  11.0127     9.489701  11.149599  10.94297   10.426765\n",
      "  9.902262  11.178947  10.813228   9.766197  10.956848  10.593768\n",
      " 10.536826  10.495383  11.232699  10.880398  11.276783  11.944663\n",
      " 11.25757   10.549853  10.854066  11.048683  11.426963  10.126625\n",
      " 11.130385  10.401399  11.031125  11.398439  10.100945  10.703015\n",
      " 10.481869  10.23493   10.602353  11.600308  10.236106   9.725565\n",
      " 10.495383  10.369094   9.757991  11.731729  10.525359  11.189378\n",
      " 10.009024  11.575974  10.72332   11.169748  11.274611  10.335628\n",
      " 10.896773   9.819211  10.622903  10.773286  10.542227  11.516443\n",
      " 10.150939  10.580947   9.804726  11.744333  10.556868  10.737642\n",
      " 10.388587  11.366255  11.055779  10.471981  10.462215  11.25814\n",
      " 10.515013   9.828287  11.800038  11.486998  10.500919  11.215485\n",
      " 10.455677  11.094699  11.24593   10.425345  11.090577  11.169748\n",
      " 11.137445  11.516443   9.828618   9.551847  10.759482  10.354583\n",
      " 10.608929  11.328022  10.632657   9.907844  11.341155  10.264749\n",
      " 11.795951  11.23878   10.77478   11.102085  10.944935  10.614366\n",
      " 10.982163  11.790028  11.117206  11.425065   9.41236   10.14941\n",
      " 10.709176  10.444757  11.062538  11.202389  11.400966  10.234044\n",
      " 11.429118  11.204672  10.177786  10.916467  10.051154  11.2794075\n",
      " 10.940112  11.080125  11.560149  11.726227  11.005967  10.127354\n",
      " 10.798758  11.175013  11.120063  10.640586   9.990032  10.660813\n",
      " 10.576037  11.423967  10.784067   9.924505  10.118809  11.121365\n",
      "  9.847678  11.013918  11.311329  11.485705 ]\n"
     ]
    }
   ],
   "source": [
    "with open('model/xgboost_pipeline.pkl', 'rb') as file:\n",
    "    loaded_pipe = pickle.load(file)\n",
    "\n",
    "# Use the loaded model for prediction\n",
    "new_predictions = loaded_pipe.predict(X_test)\n",
    "print(\"Predictions:\", new_predictions)\n"
   ]
  },
  {
   "cell_type": "code",
   "execution_count": 104,
   "metadata": {},
   "outputs": [],
   "source": [
    "pickle.dump(df, open('model/df.pkl', 'wb'))"
   ]
  },
  {
   "cell_type": "code",
   "execution_count": null,
   "metadata": {},
   "outputs": [],
   "source": []
  }
 ],
 "metadata": {
  "kernelspec": {
   "display_name": "base",
   "language": "python",
   "name": "python3"
  },
  "language_info": {
   "codemirror_mode": {
    "name": "ipython",
    "version": 3
   },
   "file_extension": ".py",
   "mimetype": "text/x-python",
   "name": "python",
   "nbconvert_exporter": "python",
   "pygments_lexer": "ipython3",
   "version": "3.12.4"
  }
 },
 "nbformat": 4,
 "nbformat_minor": 2
}
